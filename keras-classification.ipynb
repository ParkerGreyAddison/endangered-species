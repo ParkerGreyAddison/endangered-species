{
 "cells": [
  {
   "cell_type": "code",
   "execution_count": 1,
   "metadata": {},
   "outputs": [
    {
     "name": "stderr",
     "output_type": "stream",
     "text": [
      "C:\\Users\\Parker\\Miniconda3\\envs\\tensorflow\\lib\\site-packages\\h5py\\__init__.py:36: FutureWarning: Conversion of the second argument of issubdtype from `float` to `np.floating` is deprecated. In future, it will be treated as `np.float64 == np.dtype(float).type`.\n",
      "  from ._conv import register_converters as _register_converters\n",
      "Using TensorFlow backend.\n"
     ]
    }
   ],
   "source": [
    "import os\n",
    "import cv2\n",
    "import random\n",
    "import matplotlib.pyplot as plt\n",
    "import numpy as np\n",
    "import keras"
   ]
  },
  {
   "cell_type": "markdown",
   "metadata": {},
   "source": [
    "# Loading and formatting the data\n",
    "---"
   ]
  },
  {
   "cell_type": "code",
   "execution_count": 2,
   "metadata": {},
   "outputs": [],
   "source": [
    "# Setting cute at index 1.  This will slightly simplify the final rating process\n",
    "# since we can just average out the values.\n",
    "CATEGORIES = [\"ugly\", \"cute\"]\n",
    "DIRECTORY = \"./Data/Images\""
   ]
  },
  {
   "cell_type": "code",
   "execution_count": 5,
   "metadata": {},
   "outputs": [],
   "source": [
    "def transform_image(img):\n",
    "    \"\"\"\n",
    "    Adds black padding around an image to make it square,\n",
    "    then resizes to 96x96, then returns.\n",
    "    \"\"\"\n",
    "    \n",
    "    # I don't want to stretch the image, so I'll add padding to make it\n",
    "    # square based on the largest dimension.\n",
    "    dims = img.shape[:2]\n",
    "    argmax_dim = np.argmax(dims)\n",
    "    max_dim = dims[argmax_dim]\n",
    "\n",
    "    # Shape is height, width, depth.  So, if argmax is 0 then height is max\n",
    "    # and I should pad the left and right.  Opposite respectively for width.\n",
    "    padding_amount = abs(np.diff(dims).item()) // 2\n",
    "\n",
    "    padding_options = {\n",
    "        0: {'top': 0, 'bottom': 0, 'left': padding_amount, 'right': padding_amount},\n",
    "        1: {'top': padding_amount, 'bottom': padding_amount, 'left': 0, 'right': 0}\n",
    "    }\n",
    "\n",
    "    padding = padding_options[argmax_dim]\n",
    "\n",
    "    # cv2.copyMakeBorder(src, top, bottom, left, right, method)\n",
    "    padded = cv2.copyMakeBorder(img, **padding, borderType=cv2.BORDER_ISOLATED)\n",
    "\n",
    "    resized = cv2.resize(padded, (96, 96))\n",
    "\n",
    "    return resized"
   ]
  },
  {
   "cell_type": "code",
   "execution_count": 6,
   "metadata": {},
   "outputs": [],
   "source": [
    "def create_dataset():\n",
    "    dataset = []\n",
    "    \n",
    "    for category in CATEGORIES:\n",
    "        path = os.path.join(DIRECTORY, category)\n",
    "\n",
    "        # 0 is ugly, 1 is cute\n",
    "        label = CATEGORIES.index(category)\n",
    "\n",
    "        for filename in os.listdir(path):\n",
    "            img = cv2.imread(os.path.join(path, filename))\n",
    "\n",
    "            transformed = transform_image(img)\n",
    "\n",
    "            dataset.append((transformed, label))\n",
    "            \n",
    "    return dataset"
   ]
  },
  {
   "cell_type": "code",
   "execution_count": 8,
   "metadata": {},
   "outputs": [
    {
     "data": {
      "text/plain": [
       "5070"
      ]
     },
     "execution_count": 8,
     "metadata": {},
     "output_type": "execute_result"
    }
   ],
   "source": [
    "dataset = create_dataset()\n",
    "len(dataset)"
   ]
  },
  {
   "cell_type": "code",
   "execution_count": 9,
   "metadata": {},
   "outputs": [],
   "source": [
    "# Shuffle the dataset\n",
    "random.shuffle(dataset)"
   ]
  },
  {
   "cell_type": "code",
   "execution_count": 10,
   "metadata": {},
   "outputs": [],
   "source": [
    "X = []\n",
    "y = []\n",
    "\n",
    "for data, label in dataset:\n",
    "    X.append(data)\n",
    "    y.append(label)\n",
    "    \n",
    "X = np.array(X).reshape(-1, 96, 96, 3) # 3 channels, rgb"
   ]
  },
  {
   "cell_type": "code",
   "execution_count": 11,
   "metadata": {},
   "outputs": [],
   "source": [
    "import pickle\n",
    "\n",
    "with open(\"X.pickle\", 'wb') as pickle_out:\n",
    "    pickle.dump(X, pickle_out)\n",
    "\n",
    "with open(\"y.pickle\", 'wb') as pickle_out:\n",
    "    pickle.dump(y, pickle_out)"
   ]
  },
  {
   "cell_type": "markdown",
   "metadata": {},
   "source": [
    "# Commence training\n",
    "---"
   ]
  },
  {
   "cell_type": "code",
   "execution_count": 14,
   "metadata": {},
   "outputs": [],
   "source": [
    "from keras.models import Sequential\n",
    "from keras.layers import Dense, Dropout, Activation, Flatten, Conv2D, MaxPooling2D"
   ]
  },
  {
   "cell_type": "code",
   "execution_count": 15,
   "metadata": {},
   "outputs": [],
   "source": [
    "with open(\"X.pickle\", 'rb') as pickle_in:\n",
    "    X = pickle.load(pickle_in)\n",
    "    \n",
    "with open(\"y.pickle\", 'rb') as pickle_in:\n",
    "    y = pickle.load(pickle_in)"
   ]
  },
  {
   "cell_type": "code",
   "execution_count": 17,
   "metadata": {},
   "outputs": [],
   "source": [
    "X = X / 255"
   ]
  },
  {
   "cell_type": "code",
   "execution_count": 20,
   "metadata": {},
   "outputs": [
    {
     "data": {
      "text/plain": [
       "(5070, 96, 96, 3)"
      ]
     },
     "execution_count": 20,
     "metadata": {},
     "output_type": "execute_result"
    }
   ],
   "source": [
    "X.shape"
   ]
  },
  {
   "cell_type": "code",
   "execution_count": 72,
   "metadata": {},
   "outputs": [
    {
     "name": "stdout",
     "output_type": "stream",
     "text": [
      "Train on 4056 samples, validate on 1014 samples\n",
      "Epoch 1/15\n",
      "4056/4056 [==============================] - 6s 2ms/step - loss: 0.9448 - acc: 0.5350 - val_loss: 0.6786 - val_acc: 0.6095\n",
      "Epoch 2/15\n",
      "4056/4056 [==============================] - 5s 1ms/step - loss: 0.6710 - acc: 0.5907 - val_loss: 0.6342 - val_acc: 0.6420\n",
      "Epoch 3/15\n",
      "4056/4056 [==============================] - 5s 1ms/step - loss: 0.6410 - acc: 0.6277 - val_loss: 0.6225 - val_acc: 0.6578\n",
      "Epoch 4/15\n",
      "4056/4056 [==============================] - 5s 1ms/step - loss: 0.6252 - acc: 0.6526 - val_loss: 0.6458 - val_acc: 0.6085\n",
      "Epoch 5/15\n",
      "4056/4056 [==============================] - 5s 1ms/step - loss: 0.6025 - acc: 0.6709 - val_loss: 0.6346 - val_acc: 0.6588\n",
      "Epoch 6/15\n",
      "4056/4056 [==============================] - 5s 1ms/step - loss: 0.5920 - acc: 0.6866 - val_loss: 0.6681 - val_acc: 0.6223\n",
      "Epoch 7/15\n",
      "4056/4056 [==============================] - 5s 1ms/step - loss: 0.5578 - acc: 0.7187 - val_loss: 0.6269 - val_acc: 0.6420\n",
      "Epoch 8/15\n",
      "4056/4056 [==============================] - 5s 1ms/step - loss: 0.5248 - acc: 0.7461 - val_loss: 0.6857 - val_acc: 0.6095\n",
      "Epoch 9/15\n",
      "4056/4056 [==============================] - 5s 1ms/step - loss: 0.4968 - acc: 0.7643 - val_loss: 0.6180 - val_acc: 0.6815\n",
      "Epoch 10/15\n",
      "4056/4056 [==============================] - 5s 1ms/step - loss: 0.4616 - acc: 0.7882 - val_loss: 0.6336 - val_acc: 0.6824\n",
      "Epoch 11/15\n",
      "4056/4056 [==============================] - 5s 1ms/step - loss: 0.4281 - acc: 0.8126 - val_loss: 0.6425 - val_acc: 0.6874\n",
      "Epoch 12/15\n",
      "4056/4056 [==============================] - 5s 1ms/step - loss: 0.3807 - acc: 0.8309 - val_loss: 0.6660 - val_acc: 0.6864\n",
      "Epoch 13/15\n",
      "4056/4056 [==============================] - 5s 1ms/step - loss: 0.3661 - acc: 0.8429 - val_loss: 0.7441 - val_acc: 0.6746\n",
      "Epoch 14/15\n",
      "4056/4056 [==============================] - 5s 1ms/step - loss: 0.3168 - acc: 0.8654 - val_loss: 0.7713 - val_acc: 0.6736\n",
      "Epoch 15/15\n",
      "4056/4056 [==============================] - 5s 1ms/step - loss: 0.2815 - acc: 0.8836 - val_loss: 0.8491 - val_acc: 0.6499\n"
     ]
    },
    {
     "data": {
      "text/plain": [
       "<keras.callbacks.History at 0x20b868013c8>"
      ]
     },
     "execution_count": 72,
     "metadata": {},
     "output_type": "execute_result"
    }
   ],
   "source": [
    "model = Sequential()\n",
    "\n",
    "# Conv2D(filters, kernel_size)\n",
    "model.add(Conv2D(64, kernel_size=3, input_shape=X.shape[1:]))\n",
    "model.add(Activation(\"relu\"))\n",
    "model.add(MaxPooling2D(pool_size=(2,2)))\n",
    "\n",
    "model.add(Conv2D(64, kernel_size=3, input_shape=X.shape[1:]))\n",
    "model.add(Activation(\"relu\"))\n",
    "model.add(MaxPooling2D(pool_size=(2,2)))\n",
    "\n",
    "model.add(Flatten())\n",
    "\n",
    "model.add(Dense(units=64))\n",
    "\n",
    "model.add(Dense(units=1))\n",
    "model.add(Activation(\"sigmoid\"))\n",
    "\n",
    "model.compile(loss=\"binary_crossentropy\", optimizer=\"adam\", metrics=[\"accuracy\"])\n",
    "\n",
    "model.fit(X, y, batch_size=128, validation_split=0.2, epochs=15)"
   ]
  },
  {
   "cell_type": "markdown",
   "metadata": {},
   "source": [
    "<font color=\"red\">\n",
    "# TODO: check why validation accuracy is always zero!"
   ]
  },
  {
   "cell_type": "markdown",
   "metadata": {},
   "source": [
    "# A small, quick, manual, test\n",
    "---"
   ]
  },
  {
   "cell_type": "code",
   "execution_count": 48,
   "metadata": {},
   "outputs": [],
   "source": [
    "%matplotlib inline"
   ]
  },
  {
   "cell_type": "code",
   "execution_count": 79,
   "metadata": {},
   "outputs": [
    {
     "name": "stdout",
     "output_type": "stream",
     "text": [
      "Name: cute0.jpg\n",
      "Prediction: [[1]]\n",
      "Name: cute1.jpg\n",
      "Prediction: [[1]]\n",
      "Name: cute2.jpg\n",
      "Prediction: [[1]]\n",
      "Name: ugly0.jpg\n",
      "Prediction: [[0]]\n",
      "Name: ugly1.jpg\n",
      "Prediction: [[1]]\n",
      "Name: ugly2.jpg\n",
      "Prediction: [[1]]\n"
     ]
    }
   ],
   "source": [
    "path = \"./Test\"\n",
    "for filename in os.listdir(path):\n",
    "    img = cv2.imread(os.path.join(path, filename))\n",
    "    transformed = transform_image(img)\n",
    "    \n",
    "    to_predict = transformed.reshape(-1, 96, 96, 3)\n",
    "    \n",
    "    prediction = model.predict_classes(to_predict)\n",
    "    pred = \"cute\" if prediction else \"ugly\"\n",
    "    print(\"Name: {}\\nPrediction: {}\".format(filename, prediction))"
   ]
  },
  {
   "cell_type": "markdown",
   "metadata": {},
   "source": [
    "<font color=\"red\">\n",
    "### I'll need to make a test set to see what's going on here."
   ]
  },
  {
   "cell_type": "code",
   "execution_count": 76,
   "metadata": {},
   "outputs": [
    {
     "data": {
      "text/plain": [
       "array([[0]])"
      ]
     },
     "execution_count": 76,
     "metadata": {},
     "output_type": "execute_result"
    }
   ],
   "source": [
    "model.predict_classes(X[2].reshape(-1, 96, 96, 3))"
   ]
  },
  {
   "cell_type": "code",
   "execution_count": 77,
   "metadata": {},
   "outputs": [
    {
     "data": {
      "text/plain": [
       "0"
      ]
     },
     "execution_count": 77,
     "metadata": {},
     "output_type": "execute_result"
    }
   ],
   "source": [
    "y[2]"
   ]
  },
  {
   "cell_type": "code",
   "execution_count": 78,
   "metadata": {},
   "outputs": [
    {
     "data": {
      "text/plain": [
       "<matplotlib.image.AxesImage at 0x20b528f0ef0>"
      ]
     },
     "execution_count": 78,
     "metadata": {},
     "output_type": "execute_result"
    },
    {
     "data": {
      "image/png": "[encoded data removed]",
      "text/plain": [
       "<Figure size 432x288 with 1 Axes>"
      ]
     },
     "metadata": {},
     "output_type": "display_data"
    }
   ],
   "source": [
    "plt.imshow(X[2])"
   ]
  },
  {
   "cell_type": "code",
   "execution_count": null,
   "metadata": {},
   "outputs": [],
   "source": []
  }
 ],
 "metadata": {
  "kernelspec": {
   "display_name": "Python 3",
   "language": "python",
   "name": "python3"
  },
  "language_info": {
   "codemirror_mode": {
    "name": "ipython",
    "version": 3
   },
   "file_extension": ".py",
   "mimetype": "text/x-python",
   "name": "python",
   "nbconvert_exporter": "python",
   "pygments_lexer": "ipython3",
   "version": "3.5.5"
  }
 },
 "nbformat": 4,
 "nbformat_minor": 2
}
