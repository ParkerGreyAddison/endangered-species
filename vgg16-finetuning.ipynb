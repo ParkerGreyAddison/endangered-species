{
 "cells": [
  {
   "cell_type": "code",
   "execution_count": 1,
   "metadata": {},
   "outputs": [
    {
     "name": "stderr",
     "output_type": "stream",
     "text": [
      "C:\\Users\\Parker\\Miniconda3\\envs\\tensorflow\\lib\\site-packages\\h5py\\__init__.py:36: FutureWarning: Conversion of the second argument of issubdtype from `float` to `np.floating` is deprecated. In future, it will be treated as `np.float64 == np.dtype(float).type`.\n",
      "  from ._conv import register_converters as _register_converters\n"
     ]
    }
   ],
   "source": [
    "import tensorflow.keras\n",
    "import numpy as np\n",
    "import cv2\n",
    "import matplotlib.pyplot as plt\n",
    "import pickle\n",
    "import os\n",
    "from tensorflow.keras.models import Sequential\n",
    "from tensorflow.keras.layers import Dense, Flatten, Activation, Conv2D, BatchNormalization, MaxPooling2D, Dropout\n",
    "from tensorflow.keras.callbacks import ModelCheckpoint"
   ]
  },
  {
   "cell_type": "code",
   "execution_count": 2,
   "metadata": {},
   "outputs": [],
   "source": [
    "vgg16_model = tensorflow.keras.applications.vgg16.VGG16(include_top=False, input_shape=(96, 96, 3))"
   ]
  },
  {
   "cell_type": "code",
   "execution_count": 3,
   "metadata": {},
   "outputs": [
    {
     "name": "stdout",
     "output_type": "stream",
     "text": [
      "_________________________________________________________________\n",
      "Layer (type)                 Output Shape              Param #   \n",
      "=================================================================\n",
      "input_1 (InputLayer)         (None, 96, 96, 3)         0         \n",
      "_________________________________________________________________\n",
      "block1_conv1 (Conv2D)        (None, 96, 96, 64)        1792      \n",
      "_________________________________________________________________\n",
      "block1_conv2 (Conv2D)        (None, 96, 96, 64)        36928     \n",
      "_________________________________________________________________\n",
      "block1_pool (MaxPooling2D)   (None, 48, 48, 64)        0         \n",
      "_________________________________________________________________\n",
      "block2_conv1 (Conv2D)        (None, 48, 48, 128)       73856     \n",
      "_________________________________________________________________\n",
      "block2_conv2 (Conv2D)        (None, 48, 48, 128)       147584    \n",
      "_________________________________________________________________\n",
      "block2_pool (MaxPooling2D)   (None, 24, 24, 128)       0         \n",
      "_________________________________________________________________\n",
      "block3_conv1 (Conv2D)        (None, 24, 24, 256)       295168    \n",
      "_________________________________________________________________\n",
      "block3_conv2 (Conv2D)        (None, 24, 24, 256)       590080    \n",
      "_________________________________________________________________\n",
      "block3_conv3 (Conv2D)        (None, 24, 24, 256)       590080    \n",
      "_________________________________________________________________\n",
      "block3_pool (MaxPooling2D)   (None, 12, 12, 256)       0         \n",
      "_________________________________________________________________\n",
      "block4_conv1 (Conv2D)        (None, 12, 12, 512)       1180160   \n",
      "_________________________________________________________________\n",
      "block4_conv2 (Conv2D)        (None, 12, 12, 512)       2359808   \n",
      "_________________________________________________________________\n",
      "block4_conv3 (Conv2D)        (None, 12, 12, 512)       2359808   \n",
      "_________________________________________________________________\n",
      "block4_pool (MaxPooling2D)   (None, 6, 6, 512)         0         \n",
      "_________________________________________________________________\n",
      "block5_conv1 (Conv2D)        (None, 6, 6, 512)         2359808   \n",
      "_________________________________________________________________\n",
      "block5_conv2 (Conv2D)        (None, 6, 6, 512)         2359808   \n",
      "_________________________________________________________________\n",
      "block5_conv3 (Conv2D)        (None, 6, 6, 512)         2359808   \n",
      "_________________________________________________________________\n",
      "block5_pool (MaxPooling2D)   (None, 3, 3, 512)         0         \n",
      "=================================================================\n",
      "Total params: 14,714,688\n",
      "Trainable params: 14,714,688\n",
      "Non-trainable params: 0\n",
      "_________________________________________________________________\n"
     ]
    }
   ],
   "source": [
    "vgg16_model.summary()"
   ]
  },
  {
   "cell_type": "code",
   "execution_count": 4,
   "metadata": {},
   "outputs": [],
   "source": [
    "# Recreate VGG16 as a sequential model\n",
    "\n",
    "model = Sequential()\n",
    "\n",
    "# We want to fine tune before flattening\n",
    "for layer in vgg16_model.layers[:-4]:\n",
    "    model.add(layer)\n",
    "    \n",
    "# And we don't want to retrain anymore!\n",
    "for layer in model.layers:\n",
    "    layer.trainable = False"
   ]
  },
  {
   "cell_type": "code",
   "execution_count": 5,
   "metadata": {},
   "outputs": [
    {
     "name": "stdout",
     "output_type": "stream",
     "text": [
      "_________________________________________________________________\n",
      "Layer (type)                 Output Shape              Param #   \n",
      "=================================================================\n",
      "block1_conv1 (Conv2D)        (None, 96, 96, 64)        1792      \n",
      "_________________________________________________________________\n",
      "block1_conv2 (Conv2D)        (None, 96, 96, 64)        36928     \n",
      "_________________________________________________________________\n",
      "block1_pool (MaxPooling2D)   (None, 48, 48, 64)        0         \n",
      "_________________________________________________________________\n",
      "block2_conv1 (Conv2D)        (None, 48, 48, 128)       73856     \n",
      "_________________________________________________________________\n",
      "block2_conv2 (Conv2D)        (None, 48, 48, 128)       147584    \n",
      "_________________________________________________________________\n",
      "block2_pool (MaxPooling2D)   (None, 24, 24, 128)       0         \n",
      "_________________________________________________________________\n",
      "block3_conv1 (Conv2D)        (None, 24, 24, 256)       295168    \n",
      "_________________________________________________________________\n",
      "block3_conv2 (Conv2D)        (None, 24, 24, 256)       590080    \n",
      "_________________________________________________________________\n",
      "block3_conv3 (Conv2D)        (None, 24, 24, 256)       590080    \n",
      "_________________________________________________________________\n",
      "block3_pool (MaxPooling2D)   (None, 12, 12, 256)       0         \n",
      "_________________________________________________________________\n",
      "block4_conv1 (Conv2D)        (None, 12, 12, 512)       1180160   \n",
      "_________________________________________________________________\n",
      "block4_conv2 (Conv2D)        (None, 12, 12, 512)       2359808   \n",
      "_________________________________________________________________\n",
      "block4_conv3 (Conv2D)        (None, 12, 12, 512)       2359808   \n",
      "_________________________________________________________________\n",
      "block4_pool (MaxPooling2D)   (None, 6, 6, 512)         0         \n",
      "=================================================================\n",
      "Total params: 7,635,264\n",
      "Trainable params: 0\n",
      "Non-trainable params: 7,635,264\n",
      "_________________________________________________________________\n"
     ]
    }
   ],
   "source": [
    "model.summary()"
   ]
  },
  {
   "cell_type": "code",
   "execution_count": 6,
   "metadata": {},
   "outputs": [],
   "source": [
    "# Let's add a (CONV => RELU) * 2 => POOL\n",
    "model.add(Conv2D(64, (3, 3), padding=\"same\"))\n",
    "model.add(Activation(\"relu\"))\n",
    "model.add(BatchNormalization(axis=-1))\n",
    "model.add(Conv2D(64, (3, 3), padding=\"same\"))\n",
    "model.add(Activation(\"relu\"))\n",
    "model.add(BatchNormalization(axis=-1))\n",
    "model.add(MaxPooling2D(pool_size=(2, 2)))\n",
    "model.add(Dropout(0.25))\n",
    "\n",
    "# And finally flatten, dense, and out\n",
    "model.add(Flatten())\n",
    "model.add(Dense(1024))\n",
    "model.add(Activation(\"relu\"))\n",
    "model.add(BatchNormalization())\n",
    "model.add(Dropout(0.5))\n",
    "\n",
    "# sigmoid classifier\n",
    "model.add(Dense(1))\n",
    "model.add(Activation(\"sigmoid\"))"
   ]
  },
  {
   "cell_type": "code",
   "execution_count": 7,
   "metadata": {},
   "outputs": [],
   "source": [
    "# Load data\n",
    "\n",
    "with open(\"sub-X.pickle\", 'rb') as pickle_in:\n",
    "    X = pickle.load(pickle_in)\n",
    "\n",
    "X = X / 255\n",
    "    \n",
    "with open(\"sub-y.pickle\", 'rb') as pickle_in:\n",
    "    y = pickle.load(pickle_in)"
   ]
  },
  {
   "cell_type": "code",
   "execution_count": 8,
   "metadata": {},
   "outputs": [
    {
     "name": "stdout",
     "output_type": "stream",
     "text": [
      "Train on 3169 samples, validate on 793 samples\n",
      "Epoch 1/20\n",
      "3169/3169 [==============================] - 16s 5ms/step - loss: 0.7750 - acc: 0.6721 - val_loss: 0.9530 - val_acc: 0.6368\n",
      "\n",
      "Epoch 00001: val_acc improved from -inf to 0.63682, saving model to model-weights.hdf5\n",
      "Epoch 2/20\n",
      "3169/3169 [==============================] - 8s 2ms/step - loss: 0.4810 - acc: 0.7943 - val_loss: 0.8735 - val_acc: 0.6860\n",
      "\n",
      "Epoch 00002: val_acc improved from 0.63682 to 0.68600, saving model to model-weights.hdf5\n",
      "Epoch 3/20\n",
      "3169/3169 [==============================] - 8s 3ms/step - loss: 0.3133 - acc: 0.8681 - val_loss: 0.6094 - val_acc: 0.7743\n",
      "\n",
      "Epoch 00003: val_acc improved from 0.68600 to 0.77427, saving model to model-weights.hdf5\n",
      "Epoch 4/20\n",
      "3169/3169 [==============================] - 8s 2ms/step - loss: 0.2194 - acc: 0.9107 - val_loss: 0.5027 - val_acc: 0.8008\n",
      "\n",
      "Epoch 00004: val_acc improved from 0.77427 to 0.80076, saving model to model-weights.hdf5\n",
      "Epoch 5/20\n",
      "3169/3169 [==============================] - 8s 3ms/step - loss: 0.1244 - acc: 0.9489 - val_loss: 0.5545 - val_acc: 0.8146\n",
      "\n",
      "Epoch 00005: val_acc improved from 0.80076 to 0.81463, saving model to model-weights.hdf5\n",
      "Epoch 6/20\n",
      "3169/3169 [==============================] - 8s 3ms/step - loss: 0.0927 - acc: 0.9656 - val_loss: 0.6188 - val_acc: 0.8083\n",
      "\n",
      "Epoch 00006: val_acc did not improve from 0.81463\n",
      "Epoch 7/20\n",
      "3169/3169 [==============================] - 8s 2ms/step - loss: 0.0538 - acc: 0.9804 - val_loss: 0.5666 - val_acc: 0.8209\n",
      "\n",
      "Epoch 00007: val_acc improved from 0.81463 to 0.82093, saving model to model-weights.hdf5\n",
      "Epoch 8/20\n",
      "3169/3169 [==============================] - 8s 2ms/step - loss: 0.0417 - acc: 0.9883 - val_loss: 0.6687 - val_acc: 0.7793\n",
      "\n",
      "Epoch 00008: val_acc did not improve from 0.82093\n",
      "Epoch 9/20\n",
      "3169/3169 [==============================] - 8s 2ms/step - loss: 0.0336 - acc: 0.9899 - val_loss: 0.5991 - val_acc: 0.8373\n",
      "\n",
      "Epoch 00009: val_acc improved from 0.82093 to 0.83733, saving model to model-weights.hdf5\n",
      "Epoch 10/20\n",
      "3169/3169 [==============================] - 8s 2ms/step - loss: 0.0313 - acc: 0.9890 - val_loss: 0.6494 - val_acc: 0.8310\n",
      "\n",
      "Epoch 00010: val_acc did not improve from 0.83733\n",
      "Epoch 11/20\n",
      "3169/3169 [==============================] - 8s 2ms/step - loss: 0.0356 - acc: 0.9861 - val_loss: 0.6499 - val_acc: 0.8335\n",
      "\n",
      "Epoch 00011: val_acc did not improve from 0.83733\n",
      "Epoch 12/20\n",
      "3169/3169 [==============================] - 8s 2ms/step - loss: 0.0350 - acc: 0.9918 - val_loss: 0.7673 - val_acc: 0.8184\n",
      "\n",
      "Epoch 00012: val_acc did not improve from 0.83733\n",
      "Epoch 13/20\n",
      "3169/3169 [==============================] - 8s 2ms/step - loss: 0.0274 - acc: 0.9934 - val_loss: 0.7303 - val_acc: 0.8235\n",
      "\n",
      "Epoch 00013: val_acc did not improve from 0.83733\n",
      "Epoch 14/20\n",
      "3169/3169 [==============================] - 8s 2ms/step - loss: 0.0276 - acc: 0.9927 - val_loss: 0.9405 - val_acc: 0.8008\n",
      "\n",
      "Epoch 00014: val_acc did not improve from 0.83733\n",
      "Epoch 15/20\n",
      "3169/3169 [==============================] - 8s 2ms/step - loss: 0.0246 - acc: 0.9946 - val_loss: 0.8891 - val_acc: 0.8172\n",
      "\n",
      "Epoch 00015: val_acc did not improve from 0.83733\n",
      "Epoch 16/20\n",
      "3169/3169 [==============================] - 8s 3ms/step - loss: 0.0144 - acc: 0.9959 - val_loss: 0.7745 - val_acc: 0.8348\n",
      "\n",
      "Epoch 00016: val_acc did not improve from 0.83733\n",
      "Epoch 17/20\n",
      "3169/3169 [==============================] - 8s 2ms/step - loss: 0.0196 - acc: 0.9950 - val_loss: 0.7857 - val_acc: 0.8209\n",
      "\n",
      "Epoch 00017: val_acc did not improve from 0.83733\n",
      "Epoch 18/20\n",
      "3169/3169 [==============================] - 8s 2ms/step - loss: 0.0122 - acc: 0.9962 - val_loss: 0.8437 - val_acc: 0.8172\n",
      "\n",
      "Epoch 00018: val_acc did not improve from 0.83733\n",
      "Epoch 19/20\n",
      "3169/3169 [==============================] - 8s 2ms/step - loss: 0.0198 - acc: 0.9950 - val_loss: 0.7767 - val_acc: 0.8247\n",
      "\n",
      "Epoch 00019: val_acc did not improve from 0.83733\n",
      "Epoch 20/20\n",
      "3169/3169 [==============================] - 8s 2ms/step - loss: 0.0148 - acc: 0.9953 - val_loss: 0.8550 - val_acc: 0.8146\n",
      "\n",
      "Epoch 00020: val_acc did not improve from 0.83733\n"
     ]
    },
    {
     "data": {
      "text/plain": [
       "<tensorflow.python.keras.callbacks.History at 0x16618cbaa58>"
      ]
     },
     "execution_count": 8,
     "metadata": {},
     "output_type": "execute_result"
    }
   ],
   "source": [
    "# Compile\n",
    "model.compile(loss=\"binary_crossentropy\", optimizer=\"adam\", metrics=[\"accuracy\"])\n",
    "\n",
    "# Checkpoint improvements\n",
    "filepath=\"model-weights.hdf5\"\n",
    "checkpoint = ModelCheckpoint(filepath, monitor=\"val_acc\", verbose=1, save_best_only=True, mode=\"max\")\n",
    "callbacks_list = [checkpoint]\n",
    "\n",
    "# Finally, train\n",
    "model.fit(X, y, batch_size=256, validation_split=0.2, epochs=20, callbacks=callbacks_list)"
   ]
  },
  {
   "cell_type": "code",
   "execution_count": 11,
   "metadata": {},
   "outputs": [],
   "source": [
    "# Let's save this model so we can spin it up in a separate instance.\n",
    "model_json_string = model.to_json()\n",
    "with open(\"model-structure.json\", 'w') as outfile:\n",
    "    outfile.write(model_json_string)\n",
    "\n",
    "# The best weights have already been saved with the checkpoint :) "
   ]
  },
  {
   "cell_type": "code",
   "execution_count": 12,
   "metadata": {},
   "outputs": [],
   "source": [
    "model.save(\"model.h5\")"
   ]
  },
  {
   "cell_type": "code",
   "execution_count": 13,
   "metadata": {},
   "outputs": [],
   "source": [
    "# Let's save this model so we can spin it up in a separate instance.\n",
    "model_yaml_string = model.to_yaml()\n",
    "with open(\"model-structure.yaml\", 'w') as outfile:\n",
    "    outfile.write(model_yaml_string)\n",
    "\n",
    "# The best weights have already been saved with the checkpoint :) "
   ]
  },
  {
   "cell_type": "code",
   "execution_count": null,
   "metadata": {},
   "outputs": [],
   "source": []
  }
 ],
 "metadata": {
  "kernelspec": {
   "display_name": "Python 3",
   "language": "python",
   "name": "python3"
  },
  "language_info": {
   "codemirror_mode": {
    "name": "ipython",
    "version": 3
   },
   "file_extension": ".py",
   "mimetype": "text/x-python",
   "name": "python",
   "nbconvert_exporter": "python",
   "pygments_lexer": "ipython3",
   "version": "3.5.5"
  }
 },
 "nbformat": 4,
 "nbformat_minor": 2
}
